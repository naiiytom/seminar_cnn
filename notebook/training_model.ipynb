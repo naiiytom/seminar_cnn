{
 "cells": [
  {
   "cell_type": "code",
   "execution_count": 103,
   "metadata": {
    "_uuid": "371731306c3e504b191979706e826c247def88dc"
   },
   "outputs": [],
   "source": [
    "import pandas as pd\n",
    "import numpy as np\n",
    "\n",
    "import tensorflow as tf\n",
    "from tensorflow.keras.layers import Dense, Dropout\n",
    "from tensorflow.keras.optimizers import Adam\n",
    "from tensorflow.keras.metrics import categorical_crossentropy\n",
    "from tensorflow.keras.preprocessing.image import ImageDataGenerator\n",
    "from tensorflow.keras.models import Model\n",
    "from tensorflow.keras.callbacks import EarlyStopping, ReduceLROnPlateau, ModelCheckpoint\n",
    "from tensorflow.keras.metrics import categorical_accuracy, top_k_categorical_accuracy\n",
    "\n",
    "import os\n",
    "from glob import glob\n",
    "import copy\n",
    "\n",
    "from sklearn.metrics import confusion_matrix\n",
    "from sklearn.model_selection import train_test_split\n",
    "import itertools\n",
    "import shutil\n",
    "import matplotlib.pyplot as plt"
   ]
  },
  {
   "cell_type": "code",
   "execution_count": 69,
   "metadata": {},
   "outputs": [
    {
     "name": "stdout",
     "output_type": "stream",
     "text": [
      "The tensorboard extension is already loaded. To reload it, use:\n",
      "  %reload_ext tensorboard\n"
     ]
    }
   ],
   "source": [
    "%matplotlib inline\n",
    "%load_ext tensorboard"
   ]
  },
  {
   "cell_type": "markdown",
   "metadata": {
    "_uuid": "32dad10b7c104d2baa972da8cbadc7d6038af05c"
   },
   "source": [
    "### Set Up the Generators"
   ]
  },
  {
   "cell_type": "code",
   "execution_count": 90,
   "metadata": {
    "_uuid": "aa1041d69b0e8313324b91e3e9475799e1ad61c2"
   },
   "outputs": [],
   "source": [
    "train_path = '../data/train_dir'\n",
    "valid_path = '../data/val_dir'\n",
    "\n",
    "num_train_samples = 3853 + 3922\n",
    "num_val_samples = 112 + 111\n",
    "train_batch_size = 32\n",
    "val_batch_size = 32\n",
    "image_size = 224\n",
    "\n",
    "train_steps = np.ceil(num_train_samples / train_batch_size)\n",
    "val_steps = np.ceil(num_val_samples / val_batch_size)\n"
   ]
  },
  {
   "cell_type": "code",
   "execution_count": 92,
   "metadata": {
    "_uuid": "d0e5aede7139196b0d4e1344b278e7621f005550"
   },
   "outputs": [
    {
     "name": "stdout",
     "output_type": "stream",
     "text": [
      "Found 7775 images belonging to 2 classes.\n",
      "Found 223 images belonging to 2 classes.\n",
      "Found 223 images belonging to 2 classes.\n"
     ]
    }
   ],
   "source": [
    "\n",
    "datagen = ImageDataGenerator(\n",
    "    preprocessing_function= \\\n",
    "    tf.keras.applications.mobilenet.preprocess_input)\n",
    "\n",
    "train_batches = datagen.flow_from_directory(train_path,\n",
    "                                            target_size=(image_size,image_size),\n",
    "                                            batch_size=train_batch_size)\n",
    "\n",
    "valid_batches = datagen.flow_from_directory(valid_path,\n",
    "                                            target_size=(image_size,image_size),\n",
    "                                            batch_size=val_batch_size)\n",
    "\n",
    "# Note: shuffle=False causes the test dataset to not be shuffled\n",
    "test_batches = datagen.flow_from_directory(valid_path,\n",
    "                                            target_size=(image_size,image_size),\n",
    "                                            batch_size=1,\n",
    "                                            shuffle=False)"
   ]
  },
  {
   "cell_type": "markdown",
   "metadata": {
    "_uuid": "8ee4ee41f1b16083bd9fc20ee9dec40acccc97dd"
   },
   "source": [
    "### Modify MobileNet Model"
   ]
  },
  {
   "cell_type": "code",
   "execution_count": 104,
   "metadata": {
    "_uuid": "ad582cb8ea0ca2d563fc367aa89b7edfafc1a57f"
   },
   "outputs": [],
   "source": [
    "# create a copy of a mobilenet model\n",
    "\n",
    "mobile = tf.keras.applications.MobileNet()"
   ]
  },
  {
   "cell_type": "code",
   "execution_count": null,
   "metadata": {
    "_kg_hide-output": true,
    "_uuid": "960449ec7ecdda92ba733ad23b00b7be605f3d4b"
   },
   "outputs": [],
   "source": [
    "mobile.summary()"
   ]
  },
  {
   "cell_type": "code",
   "execution_count": 105,
   "metadata": {
    "_uuid": "5b7922bdf625675834d9b63ec0e85351bd9f3c0f"
   },
   "outputs": [
    {
     "data": {
      "text/plain": [
       "list"
      ]
     },
     "execution_count": 105,
     "metadata": {},
     "output_type": "execute_result"
    }
   ],
   "source": [
    "type(mobile.layers)"
   ]
  },
  {
   "cell_type": "code",
   "execution_count": 106,
   "metadata": {
    "_uuid": "f832e5865c65a013a06dbf5d500c0381020c56d5"
   },
   "outputs": [
    {
     "data": {
      "text/plain": [
       "93"
      ]
     },
     "execution_count": 106,
     "metadata": {},
     "output_type": "execute_result"
    }
   ],
   "source": [
    "# How many layers does MobileNet have?\n",
    "len(mobile.layers)"
   ]
  },
  {
   "cell_type": "code",
   "execution_count": 108,
   "metadata": {
    "_uuid": "4dd9dcf26d85a57a113e6b158cf8fceeca7f99de"
   },
   "outputs": [],
   "source": [
    "# CREATE THE MODEL ARCHITECTURE\n",
    "\n",
    "# Exclude the last 5 layers of the above model.\n",
    "# This will include all layers up to and including global_average_pooling2d_1\n",
    "x = mobile.layers[-6].output\n",
    "\n",
    "# Create a new dense layer for predictions\n",
    "# 7 corresponds to the number of classes\n",
    "x = Dropout(0.25)(x)\n",
    "predictions = Dense(2, activation='softmax')(x)\n",
    "\n",
    "# inputs=mobile.input selects the input layer, outputs=predictions refers to the\n",
    "# dense layer we created above.\n",
    "\n",
    "model = Model(inputs=mobile.input, outputs=predictions)"
   ]
  },
  {
   "cell_type": "code",
   "execution_count": null,
   "metadata": {
    "_kg_hide-output": true,
    "_uuid": "b38734b72afc4289ab187a9e683cbda6bf3269bc"
   },
   "outputs": [],
   "source": [
    "model.summary()"
   ]
  },
  {
   "cell_type": "code",
   "execution_count": 109,
   "metadata": {
    "_uuid": "a9d74e44630c3d07a596460c8fbfda3ae7cae1e9"
   },
   "outputs": [],
   "source": [
    "# We need to choose how many layers we actually want to be trained.\n",
    "\n",
    "# Here we are freezing the weights of all layers except the\n",
    "# last 23 layers in the new model.\n",
    "# The last 23 layers of the model will be trained.\n",
    "\n",
    "for layer in model.layers[:-23]:\n",
    "    layer.trainable = False"
   ]
  },
  {
   "cell_type": "markdown",
   "metadata": {
    "_uuid": "13cf63a53e5195cb8a9725d2506c71108bc478b9"
   },
   "source": [
    "### Train the Model"
   ]
  },
  {
   "cell_type": "code",
   "execution_count": 110,
   "metadata": {
    "_uuid": "915f30a4f5ad369713bcb8e3bfa438219d6c8ef7"
   },
   "outputs": [],
   "source": [
    "# Define Top2 and Top3 Accuracy\n",
    "def top_3_accuracy(y_true, y_pred):\n",
    "    return top_k_categorical_accuracy(y_true, y_pred, k=3)\n",
    "\n",
    "def top_2_accuracy(y_true, y_pred):\n",
    "    return top_k_categorical_accuracy(y_true, y_pred, k=2)"
   ]
  },
  {
   "cell_type": "code",
   "execution_count": 111,
   "metadata": {
    "_uuid": "2013ff1abae70fed845af94e7ab3d95cefad0d61"
   },
   "outputs": [],
   "source": [
    "model.compile(Adam(lr=0.01), loss='categorical_crossentropy', \n",
    "              metrics=[categorical_accuracy, top_2_accuracy, top_3_accuracy])"
   ]
  },
  {
   "cell_type": "code",
   "execution_count": 112,
   "metadata": {
    "_uuid": "62e7a784a33d4c868f49a3ef1f9acbc7186e3338"
   },
   "outputs": [
    {
     "name": "stdout",
     "output_type": "stream",
     "text": [
      "{'Melanoma': 0, 'Non-Melanoma': 1}\n"
     ]
    }
   ],
   "source": [
    "# Get the labels that are associated with each index\n",
    "print(valid_batches.class_indices)"
   ]
  },
  {
   "cell_type": "code",
   "execution_count": 113,
   "metadata": {
    "_kg_hide-output": true,
    "_uuid": "4a5e3bc3cf44f1d4326c34ad880a302ba082e9d5"
   },
   "outputs": [
    {
     "name": "stdout",
     "output_type": "stream",
     "text": [
      "WARNING:tensorflow:From <ipython-input-113-5ce7235b3ad6>:15: Model.fit_generator (from tensorflow.python.keras.engine.training) is deprecated and will be removed in a future version.\n",
      "Instructions for updating:\n",
      "Please use Model.fit, which supports generators.\n",
      "WARNING:tensorflow:sample_weight modes were coerced from\n",
      "  ...\n",
      "    to  \n",
      "  ['...']\n",
      "WARNING:tensorflow:sample_weight modes were coerced from\n",
      "  ...\n",
      "    to  \n",
      "  ['...']\n",
      "Train for 243.0 steps, validate for 7.0 steps\n",
      "Epoch 1/30\n",
      "242/243 [============================>.] - ETA: 0s - loss: 0.6639 - categorical_accuracy: 0.7416 - top_2_accuracy: 1.0000 - top_3_accuracy: 1.0000\n",
      "Epoch 00001: val_top_3_accuracy improved from -inf to 1.00000, saving model to ../models/model.h5\n",
      "243/243 [==============================] - 73s 300ms/step - loss: 0.6630 - categorical_accuracy: 0.7417 - top_2_accuracy: 1.0000 - top_3_accuracy: 1.0000 - val_loss: 0.6524 - val_categorical_accuracy: 0.6457 - val_top_2_accuracy: 1.0000 - val_top_3_accuracy: 1.0000\n",
      "Epoch 2/30\n",
      "242/243 [============================>.] - ETA: 0s - loss: 0.3887 - categorical_accuracy: 0.8334 - top_2_accuracy: 1.0000 - top_3_accuracy: 1.0000\n",
      "Epoch 00002: val_top_3_accuracy did not improve from 1.00000\n",
      "243/243 [==============================] - 17s 70ms/step - loss: 0.3881 - categorical_accuracy: 0.8336 - top_2_accuracy: 1.0000 - top_3_accuracy: 1.0000 - val_loss: 1.6142 - val_categorical_accuracy: 0.5516 - val_top_2_accuracy: 1.0000 - val_top_3_accuracy: 1.0000\n",
      "Epoch 3/30\n",
      "242/243 [============================>.] - ETA: 0s - loss: 0.2996 - categorical_accuracy: 0.8769 - top_2_accuracy: 1.0000 - top_3_accuracy: 1.0000\n",
      "Epoch 00003: val_top_3_accuracy did not improve from 1.00000\n",
      "\n",
      "Epoch 00003: ReduceLROnPlateau reducing learning rate to 0.004999999888241291.\n",
      "243/243 [==============================] - 17s 71ms/step - loss: 0.2995 - categorical_accuracy: 0.8769 - top_2_accuracy: 1.0000 - top_3_accuracy: 1.0000 - val_loss: 2.0275 - val_categorical_accuracy: 0.5471 - val_top_2_accuracy: 1.0000 - val_top_3_accuracy: 1.0000\n",
      "Epoch 4/30\n",
      "242/243 [============================>.] - ETA: 0s - loss: 0.1445 - categorical_accuracy: 0.9477 - top_2_accuracy: 1.0000 - top_3_accuracy: 1.0000\n",
      "Epoch 00004: val_top_3_accuracy did not improve from 1.00000\n",
      "243/243 [==============================] - 16s 67ms/step - loss: 0.1452 - categorical_accuracy: 0.9473 - top_2_accuracy: 1.0000 - top_3_accuracy: 1.0000 - val_loss: 1.4161 - val_categorical_accuracy: 0.6009 - val_top_2_accuracy: 1.0000 - val_top_3_accuracy: 1.0000\n",
      "Epoch 5/30\n",
      "242/243 [============================>.] - ETA: 0s - loss: 0.0871 - categorical_accuracy: 0.9690 - top_2_accuracy: 1.0000 - top_3_accuracy: 1.0000\n",
      "Epoch 00005: val_top_3_accuracy did not improve from 1.00000\n",
      "\n",
      "Epoch 00005: ReduceLROnPlateau reducing learning rate to 0.0024999999441206455.\n",
      "243/243 [==============================] - 17s 70ms/step - loss: 0.0871 - categorical_accuracy: 0.9689 - top_2_accuracy: 1.0000 - top_3_accuracy: 1.0000 - val_loss: 3.1259 - val_categorical_accuracy: 0.5426 - val_top_2_accuracy: 1.0000 - val_top_3_accuracy: 1.0000\n",
      "Epoch 6/30\n",
      "242/243 [============================>.] - ETA: 0s - loss: 0.0270 - categorical_accuracy: 0.9921 - top_2_accuracy: 1.0000 - top_3_accuracy: 1.0000\n",
      "Epoch 00006: val_top_3_accuracy did not improve from 1.00000\n",
      "243/243 [==============================] - 16s 68ms/step - loss: 0.0271 - categorical_accuracy: 0.9920 - top_2_accuracy: 1.0000 - top_3_accuracy: 1.0000 - val_loss: 1.2111 - val_categorical_accuracy: 0.6143 - val_top_2_accuracy: 1.0000 - val_top_3_accuracy: 1.0000\n",
      "Epoch 7/30\n",
      "242/243 [============================>.] - ETA: 0s - loss: 0.0052 - categorical_accuracy: 0.9992 - top_2_accuracy: 1.0000 - top_3_accuracy: 1.0000\n",
      "Epoch 00007: val_top_3_accuracy did not improve from 1.00000\n",
      "\n",
      "Epoch 00007: ReduceLROnPlateau reducing learning rate to 0.0012499999720603228.\n",
      "243/243 [==============================] - 17s 68ms/step - loss: 0.0051 - categorical_accuracy: 0.9992 - top_2_accuracy: 1.0000 - top_3_accuracy: 1.0000 - val_loss: 1.1525 - val_categorical_accuracy: 0.6547 - val_top_2_accuracy: 1.0000 - val_top_3_accuracy: 1.0000\n",
      "Epoch 8/30\n",
      "242/243 [============================>.] - ETA: 0s - loss: 0.0015 - categorical_accuracy: 0.9999 - top_2_accuracy: 1.0000 - top_3_accuracy: 1.0000\n",
      "Epoch 00008: val_top_3_accuracy did not improve from 1.00000\n",
      "243/243 [==============================] - 17s 68ms/step - loss: 0.0015 - categorical_accuracy: 0.9999 - top_2_accuracy: 1.0000 - top_3_accuracy: 1.0000 - val_loss: 1.3705 - val_categorical_accuracy: 0.6592 - val_top_2_accuracy: 1.0000 - val_top_3_accuracy: 1.0000\n",
      "Epoch 9/30\n",
      "242/243 [============================>.] - ETA: 0s - loss: 8.1728e-04 - categorical_accuracy: 0.9999 - top_2_accuracy: 1.0000 - top_3_accuracy: 1.0000\n",
      "Epoch 00009: val_top_3_accuracy did not improve from 1.00000\n",
      "\n",
      "Epoch 00009: ReduceLROnPlateau reducing learning rate to 0.0006249999860301614.\n",
      "243/243 [==============================] - 16s 68ms/step - loss: 8.1452e-04 - categorical_accuracy: 0.9999 - top_2_accuracy: 1.0000 - top_3_accuracy: 1.0000 - val_loss: 1.3690 - val_categorical_accuracy: 0.6726 - val_top_2_accuracy: 1.0000 - val_top_3_accuracy: 1.0000\n",
      "Epoch 10/30\n",
      "242/243 [============================>.] - ETA: 0s - loss: 4.2680e-04 - categorical_accuracy: 1.0000 - top_2_accuracy: 1.0000 - top_3_accuracy: 1.0000\n",
      "Epoch 00010: val_top_3_accuracy did not improve from 1.00000\n",
      "243/243 [==============================] - 17s 68ms/step - loss: 4.2592e-04 - categorical_accuracy: 1.0000 - top_2_accuracy: 1.0000 - top_3_accuracy: 1.0000 - val_loss: 1.4007 - val_categorical_accuracy: 0.6682 - val_top_2_accuracy: 1.0000 - val_top_3_accuracy: 1.0000\n",
      "Epoch 11/30\n",
      "242/243 [============================>.] - ETA: 0s - loss: 3.4800e-04 - categorical_accuracy: 1.0000 - top_2_accuracy: 1.0000 - top_3_accuracy: 1.0000\n",
      "Epoch 00011: val_top_3_accuracy did not improve from 1.00000\n",
      "\n",
      "Epoch 00011: ReduceLROnPlateau reducing learning rate to 0.0003124999930150807.\n",
      "243/243 [==============================] - 17s 68ms/step - loss: 3.4755e-04 - categorical_accuracy: 1.0000 - top_2_accuracy: 1.0000 - top_3_accuracy: 1.0000 - val_loss: 1.4091 - val_categorical_accuracy: 0.6637 - val_top_2_accuracy: 1.0000 - val_top_3_accuracy: 1.0000\n",
      "Epoch 12/30\n",
      "242/243 [============================>.] - ETA: 0s - loss: 3.2108e-04 - categorical_accuracy: 1.0000 - top_2_accuracy: 1.0000 - top_3_accuracy: 1.0000\n",
      "Epoch 00012: val_top_3_accuracy did not improve from 1.00000\n",
      "243/243 [==============================] - 16s 67ms/step - loss: 3.2052e-04 - categorical_accuracy: 1.0000 - top_2_accuracy: 1.0000 - top_3_accuracy: 1.0000 - val_loss: 1.4173 - val_categorical_accuracy: 0.6726 - val_top_2_accuracy: 1.0000 - val_top_3_accuracy: 1.0000\n",
      "Epoch 13/30\n",
      "242/243 [============================>.] - ETA: 0s - loss: 3.0656e-04 - categorical_accuracy: 1.0000 - top_2_accuracy: 1.0000 - top_3_accuracy: 1.0000\n",
      "Epoch 00013: val_top_3_accuracy did not improve from 1.00000\n",
      "\n",
      "Epoch 00013: ReduceLROnPlateau reducing learning rate to 0.00015624999650754035.\n",
      "243/243 [==============================] - 17s 68ms/step - loss: 3.0547e-04 - categorical_accuracy: 1.0000 - top_2_accuracy: 1.0000 - top_3_accuracy: 1.0000 - val_loss: 1.4352 - val_categorical_accuracy: 0.6726 - val_top_2_accuracy: 1.0000 - val_top_3_accuracy: 1.0000\n",
      "Epoch 14/30\n",
      "242/243 [============================>.] - ETA: 0s - loss: 2.8476e-04 - categorical_accuracy: 1.0000 - top_2_accuracy: 1.0000 - top_3_accuracy: 1.0000\n",
      "Epoch 00014: val_top_3_accuracy did not improve from 1.00000\n",
      "243/243 [==============================] - 17s 70ms/step - loss: 2.8534e-04 - categorical_accuracy: 1.0000 - top_2_accuracy: 1.0000 - top_3_accuracy: 1.0000 - val_loss: 1.4291 - val_categorical_accuracy: 0.6682 - val_top_2_accuracy: 1.0000 - val_top_3_accuracy: 1.0000\n",
      "Epoch 15/30\n",
      "242/243 [============================>.] - ETA: 0s - loss: 2.6439e-04 - categorical_accuracy: 1.0000 - top_2_accuracy: 1.0000 - top_3_accuracy: 1.0000\n",
      "Epoch 00015: val_top_3_accuracy did not improve from 1.00000\n",
      "\n",
      "Epoch 00015: ReduceLROnPlateau reducing learning rate to 7.812499825377017e-05.\n",
      "243/243 [==============================] - 17s 69ms/step - loss: 2.6853e-04 - categorical_accuracy: 1.0000 - top_2_accuracy: 1.0000 - top_3_accuracy: 1.0000 - val_loss: 1.4577 - val_categorical_accuracy: 0.6682 - val_top_2_accuracy: 1.0000 - val_top_3_accuracy: 1.0000\n",
      "Epoch 16/30\n",
      "242/243 [============================>.] - ETA: 0s - loss: 2.6424e-04 - categorical_accuracy: 1.0000 - top_2_accuracy: 1.0000 - top_3_accuracy: 1.0000\n",
      "Epoch 00016: val_top_3_accuracy did not improve from 1.00000\n",
      "243/243 [==============================] - 17s 70ms/step - loss: 2.6453e-04 - categorical_accuracy: 1.0000 - top_2_accuracy: 1.0000 - top_3_accuracy: 1.0000 - val_loss: 1.4636 - val_categorical_accuracy: 0.6637 - val_top_2_accuracy: 1.0000 - val_top_3_accuracy: 1.0000\n",
      "Epoch 17/30\n",
      "242/243 [============================>.] - ETA: 0s - loss: 2.4265e-04 - categorical_accuracy: 1.0000 - top_2_accuracy: 1.0000 - top_3_accuracy: 1.0000\n",
      "Epoch 00017: val_top_3_accuracy did not improve from 1.00000\n",
      "\n",
      "Epoch 00017: ReduceLROnPlateau reducing learning rate to 3.9062499126885086e-05.\n",
      "243/243 [==============================] - 17s 70ms/step - loss: 2.4244e-04 - categorical_accuracy: 1.0000 - top_2_accuracy: 1.0000 - top_3_accuracy: 1.0000 - val_loss: 1.4626 - val_categorical_accuracy: 0.6726 - val_top_2_accuracy: 1.0000 - val_top_3_accuracy: 1.0000\n",
      "Epoch 18/30\n",
      "242/243 [============================>.] - ETA: 0s - loss: 2.3625e-04 - categorical_accuracy: 1.0000 - top_2_accuracy: 1.0000 - top_3_accuracy: 1.0000\n",
      "Epoch 00018: val_top_3_accuracy did not improve from 1.00000\n",
      "243/243 [==============================] - 16s 67ms/step - loss: 2.3612e-04 - categorical_accuracy: 1.0000 - top_2_accuracy: 1.0000 - top_3_accuracy: 1.0000 - val_loss: 1.4662 - val_categorical_accuracy: 0.6726 - val_top_2_accuracy: 1.0000 - val_top_3_accuracy: 1.0000\n",
      "Epoch 19/30\n",
      "242/243 [============================>.] - ETA: 0s - loss: 2.4088e-04 - categorical_accuracy: 1.0000 - top_2_accuracy: 1.0000 - top_3_accuracy: 1.0000\n",
      "Epoch 00019: val_top_3_accuracy did not improve from 1.00000\n",
      "\n",
      "Epoch 00019: ReduceLROnPlateau reducing learning rate to 1.9531249563442543e-05.\n",
      "243/243 [==============================] - 17s 68ms/step - loss: 2.4076e-04 - categorical_accuracy: 1.0000 - top_2_accuracy: 1.0000 - top_3_accuracy: 1.0000 - val_loss: 1.4583 - val_categorical_accuracy: 0.6726 - val_top_2_accuracy: 1.0000 - val_top_3_accuracy: 1.0000\n",
      "Epoch 20/30\n",
      "242/243 [============================>.] - ETA: 0s - loss: 2.4291e-04 - categorical_accuracy: 1.0000 - top_2_accuracy: 1.0000 - top_3_accuracy: 1.0000\n",
      "Epoch 00020: val_top_3_accuracy did not improve from 1.00000\n",
      "243/243 [==============================] - 16s 67ms/step - loss: 2.4199e-04 - categorical_accuracy: 1.0000 - top_2_accuracy: 1.0000 - top_3_accuracy: 1.0000 - val_loss: 1.4745 - val_categorical_accuracy: 0.6682 - val_top_2_accuracy: 1.0000 - val_top_3_accuracy: 1.0000\n",
      "Epoch 21/30\n",
      "242/243 [============================>.] - ETA: 0s - loss: 2.1882e-04 - categorical_accuracy: 1.0000 - top_2_accuracy: 1.0000 - top_3_accuracy: 1.0000\n",
      "Epoch 00021: val_top_3_accuracy did not improve from 1.00000\n",
      "\n",
      "Epoch 00021: ReduceLROnPlateau reducing learning rate to 1e-05.\n",
      "243/243 [==============================] - 17s 68ms/step - loss: 2.1874e-04 - categorical_accuracy: 1.0000 - top_2_accuracy: 1.0000 - top_3_accuracy: 1.0000 - val_loss: 1.4761 - val_categorical_accuracy: 0.6682 - val_top_2_accuracy: 1.0000 - val_top_3_accuracy: 1.0000\n",
      "Epoch 22/30\n",
      "242/243 [============================>.] - ETA: 0s - loss: 2.3134e-04 - categorical_accuracy: 1.0000 - top_2_accuracy: 1.0000 - top_3_accuracy: 1.0000\n",
      "Epoch 00022: val_top_3_accuracy did not improve from 1.00000\n",
      "243/243 [==============================] - 16s 67ms/step - loss: 2.3050e-04 - categorical_accuracy: 1.0000 - top_2_accuracy: 1.0000 - top_3_accuracy: 1.0000 - val_loss: 1.4683 - val_categorical_accuracy: 0.6682 - val_top_2_accuracy: 1.0000 - val_top_3_accuracy: 1.0000\n",
      "Epoch 23/30\n",
      "242/243 [============================>.] - ETA: 0s - loss: 2.3078e-04 - categorical_accuracy: 1.0000 - top_2_accuracy: 1.0000 - top_3_accuracy: 1.0000\n",
      "Epoch 00023: val_top_3_accuracy did not improve from 1.00000\n",
      "243/243 [==============================] - 16s 67ms/step - loss: 2.3065e-04 - categorical_accuracy: 1.0000 - top_2_accuracy: 1.0000 - top_3_accuracy: 1.0000 - val_loss: 1.4590 - val_categorical_accuracy: 0.6682 - val_top_2_accuracy: 1.0000 - val_top_3_accuracy: 1.0000\n",
      "Epoch 24/30\n",
      "242/243 [============================>.] - ETA: 0s - loss: 2.3235e-04 - categorical_accuracy: 1.0000 - top_2_accuracy: 1.0000 - top_3_accuracy: 1.0000\n",
      "Epoch 00024: val_top_3_accuracy did not improve from 1.00000\n",
      "243/243 [==============================] - 16s 67ms/step - loss: 2.3169e-04 - categorical_accuracy: 1.0000 - top_2_accuracy: 1.0000 - top_3_accuracy: 1.0000 - val_loss: 1.4769 - val_categorical_accuracy: 0.6682 - val_top_2_accuracy: 1.0000 - val_top_3_accuracy: 1.0000\n",
      "Epoch 25/30\n",
      "242/243 [============================>.] - ETA: 0s - loss: 2.4113e-04 - categorical_accuracy: 1.0000 - top_2_accuracy: 1.0000 - top_3_accuracy: 1.0000\n",
      "Epoch 00025: val_top_3_accuracy did not improve from 1.00000\n",
      "243/243 [==============================] - 16s 67ms/step - loss: 2.4117e-04 - categorical_accuracy: 1.0000 - top_2_accuracy: 1.0000 - top_3_accuracy: 1.0000 - val_loss: 1.4760 - val_categorical_accuracy: 0.6637 - val_top_2_accuracy: 1.0000 - val_top_3_accuracy: 1.0000\n",
      "Epoch 26/30\n",
      "242/243 [============================>.] - ETA: 0s - loss: 2.1180e-04 - categorical_accuracy: 1.0000 - top_2_accuracy: 1.0000 - top_3_accuracy: 1.0000\n",
      "Epoch 00026: val_top_3_accuracy did not improve from 1.00000\n",
      "243/243 [==============================] - 17s 70ms/step - loss: 2.1128e-04 - categorical_accuracy: 1.0000 - top_2_accuracy: 1.0000 - top_3_accuracy: 1.0000 - val_loss: 1.4790 - val_categorical_accuracy: 0.6682 - val_top_2_accuracy: 1.0000 - val_top_3_accuracy: 1.0000\n",
      "Epoch 27/30\n",
      "242/243 [============================>.] - ETA: 0s - loss: 2.2140e-04 - categorical_accuracy: 1.0000 - top_2_accuracy: 1.0000 - top_3_accuracy: 1.0000\n",
      "Epoch 00027: val_top_3_accuracy did not improve from 1.00000\n",
      "243/243 [==============================] - 17s 69ms/step - loss: 2.2532e-04 - categorical_accuracy: 1.0000 - top_2_accuracy: 1.0000 - top_3_accuracy: 1.0000 - val_loss: 1.4848 - val_categorical_accuracy: 0.6726 - val_top_2_accuracy: 1.0000 - val_top_3_accuracy: 1.0000\n",
      "Epoch 28/30\n",
      "242/243 [============================>.] - ETA: 0s - loss: 2.1058e-04 - categorical_accuracy: 1.0000 - top_2_accuracy: 1.0000 - top_3_accuracy: 1.0000\n",
      "Epoch 00028: val_top_3_accuracy did not improve from 1.00000\n",
      "243/243 [==============================] - 17s 70ms/step - loss: 2.0987e-04 - categorical_accuracy: 1.0000 - top_2_accuracy: 1.0000 - top_3_accuracy: 1.0000 - val_loss: 1.4785 - val_categorical_accuracy: 0.6726 - val_top_2_accuracy: 1.0000 - val_top_3_accuracy: 1.0000\n",
      "Epoch 29/30\n",
      "242/243 [============================>.] - ETA: 0s - loss: 2.1530e-04 - categorical_accuracy: 1.0000 - top_2_accuracy: 1.0000 - top_3_accuracy: 1.0000\n",
      "Epoch 00029: val_top_3_accuracy did not improve from 1.00000\n",
      "243/243 [==============================] - 17s 70ms/step - loss: 2.1463e-04 - categorical_accuracy: 1.0000 - top_2_accuracy: 1.0000 - top_3_accuracy: 1.0000 - val_loss: 1.4899 - val_categorical_accuracy: 0.6637 - val_top_2_accuracy: 1.0000 - val_top_3_accuracy: 1.0000\n",
      "Epoch 30/30\n",
      "242/243 [============================>.] - ETA: 0s - loss: 2.0197e-04 - categorical_accuracy: 1.0000 - top_2_accuracy: 1.0000 - top_3_accuracy: 1.0000\n",
      "Epoch 00030: val_top_3_accuracy did not improve from 1.00000\n",
      "243/243 [==============================] - 17s 69ms/step - loss: 2.0291e-04 - categorical_accuracy: 1.0000 - top_2_accuracy: 1.0000 - top_3_accuracy: 1.0000 - val_loss: 1.4872 - val_categorical_accuracy: 0.6726 - val_top_2_accuracy: 1.0000 - val_top_3_accuracy: 1.0000\n"
     ]
    }
   ],
   "source": [
    "\n",
    "filepath = \"../models/model.h5\"\n",
    "checkpoint = ModelCheckpoint(filepath, monitor='val_top_3_accuracy', verbose=1, \n",
    "                             save_best_only=True, mode='max')\n",
    "\n",
    "reduce_lr = ReduceLROnPlateau(monitor='val_top_3_accuracy', factor=0.5, patience=2, \n",
    "                                   verbose=1, mode='max', min_lr=0.00001)\n",
    "                              \n",
    "                              \n",
    "callbacks_list = [checkpoint, reduce_lr]\n",
    "\n",
    "history = model.fit_generator(train_batches, steps_per_epoch=train_steps,\n",
    "                    validation_data=valid_batches,\n",
    "                    validation_steps=val_steps,\n",
    "                    epochs=30, verbose=1,\n",
    "                   callbacks=callbacks_list)\n"
   ]
  },
  {
   "cell_type": "markdown",
   "metadata": {
    "_uuid": "c3e43e3f2943db4be9d75831fe23661ae9deb44b"
   },
   "source": [
    "### Evaluate the model using the val set"
   ]
  },
  {
   "cell_type": "code",
   "execution_count": 114,
   "metadata": {
    "_uuid": "710ee26097924153647ac432c8ade29383fe42f1"
   },
   "outputs": [
    {
     "data": {
      "text/plain": [
       "['loss', 'categorical_accuracy', 'top_2_accuracy', 'top_3_accuracy']"
      ]
     },
     "execution_count": 114,
     "metadata": {},
     "output_type": "execute_result"
    }
   ],
   "source": [
    "# get the metric names so we can use evaulate_generator\n",
    "model.metrics_names"
   ]
  },
  {
   "cell_type": "code",
   "execution_count": 115,
   "metadata": {
    "_uuid": "68603a5e8cb5e507db95074a07b552a61fa48e11"
   },
   "outputs": [
    {
     "name": "stdout",
     "output_type": "stream",
     "text": [
      "WARNING:tensorflow:From <ipython-input-115-386e7eab37b7>:5: Model.evaluate_generator (from tensorflow.python.keras.engine.training) is deprecated and will be removed in a future version.\n",
      "Instructions for updating:\n",
      "Please use Model.evaluate, which supports generators.\n",
      "WARNING:tensorflow:sample_weight modes were coerced from\n",
      "  ...\n",
      "    to  \n",
      "  ['...']\n",
      "val_loss: 1.486123209665764\n",
      "val_cat_acc: 0.67264575\n",
      "val_top_2_acc: 1.0\n",
      "val_top_3_acc: 1.0\n"
     ]
    }
   ],
   "source": [
    "# Here the the last epoch will be used.\n",
    "\n",
    "val_loss, val_cat_acc, val_top_2_acc, val_top_3_acc = \\\n",
    "model.evaluate_generator(test_batches, \n",
    "                        steps=len(df_val))\n",
    "\n",
    "print('val_loss:', val_loss)\n",
    "print('val_cat_acc:', val_cat_acc)\n",
    "print('val_top_2_acc:', val_top_2_acc)\n",
    "print('val_top_3_acc:', val_top_3_acc)"
   ]
  },
  {
   "cell_type": "code",
   "execution_count": 118,
   "metadata": {},
   "outputs": [
    {
     "data": {
      "text/plain": [
       "['model.h5']"
      ]
     },
     "execution_count": 118,
     "metadata": {},
     "output_type": "execute_result"
    }
   ],
   "source": [
    "os.listdir('../models/')"
   ]
  },
  {
   "cell_type": "code",
   "execution_count": 120,
   "metadata": {
    "_uuid": "897f066da922d81fefa165a6b911a741c52ef7f5"
   },
   "outputs": [
    {
     "name": "stdout",
     "output_type": "stream",
     "text": [
      "WARNING:tensorflow:sample_weight modes were coerced from\n",
      "  ...\n",
      "    to  \n",
      "  ['...']\n",
      "val_loss: 0.6517377003784356\n",
      "val_cat_acc: 0.6457399\n",
      "val_top_2_acc: 1.0\n",
      "val_top_3_acc: 1.0\n"
     ]
    }
   ],
   "source": [
    "# Here the best epoch will be used.\n",
    "\n",
    "#model.load_weights('../input/skin-cancer-model/model.h5')\n",
    "model.load_weights('../models/model.h5')\n",
    "val_loss, val_cat_acc, val_top_2_acc, val_top_3_acc = \\\n",
    "model.evaluate_generator(test_batches, \n",
    "                        steps=len(df_val))\n",
    "\n",
    "print('val_loss:', val_loss)\n",
    "print('val_cat_acc:', val_cat_acc)\n",
    "print('val_top_2_acc:', val_top_2_acc)\n",
    "print('val_top_3_acc:', val_top_3_acc)"
   ]
  },
  {
   "cell_type": "markdown",
   "metadata": {
    "_uuid": "c3fffba5e0aa9088cda1865c7b8d75d72c20d0f6"
   },
   "source": [
    "### Plot the Training Curves"
   ]
  },
  {
   "cell_type": "code",
   "execution_count": 121,
   "metadata": {
    "_uuid": "0cbd11ef4286a751ef2918361af035d356f341ae"
   },
   "outputs": [
    {
     "data": {
      "image/png": "[encoded data removed]",
      "text/plain": [
       "<Figure size 432x288 with 1 Axes>"
      ]
     },
     "metadata": {
      "needs_background": "light"
     },
     "output_type": "display_data"
    },
    {
     "data": {
      "image/png": "[encoded data removed]",
      "text/plain": [
       "<Figure size 432x288 with 1 Axes>"
      ]
     },
     "metadata": {
      "needs_background": "light"
     },
     "output_type": "display_data"
    },
    {
     "data": {
      "image/png": "[encoded data removed]",
      "text/plain": [
       "<Figure size 432x288 with 1 Axes>"
      ]
     },
     "metadata": {
      "needs_background": "light"
     },
     "output_type": "display_data"
    },
    {
     "data": {
      "image/png": "[encoded data removed]",
      "text/plain": [
       "<Figure size 432x288 with 1 Axes>"
      ]
     },
     "metadata": {
      "needs_background": "light"
     },
     "output_type": "display_data"
    }
   ],
   "source": [
    "# display the loss and accuracy curves\n",
    "\n",
    "import matplotlib.pyplot as plt\n",
    "\n",
    "acc = history.history['categorical_accuracy']\n",
    "val_acc = history.history['val_categorical_accuracy']\n",
    "loss = history.history['loss']\n",
    "val_loss = history.history['val_loss']\n",
    "train_top2_acc = history.history['top_2_accuracy']\n",
    "val_top2_acc = history.history['val_top_2_accuracy']\n",
    "train_top3_acc = history.history['top_3_accuracy']\n",
    "val_top3_acc = history.history['val_top_3_accuracy']\n",
    "epochs = range(1, len(acc) + 1)\n",
    "\n",
    "plt.plot(epochs, loss, 'bo', label='Training loss')\n",
    "plt.plot(epochs, val_loss, 'b', label='Validation loss')\n",
    "plt.title('Training and validation loss')\n",
    "plt.legend()\n",
    "plt.figure()\n",
    "\n",
    "plt.plot(epochs, acc, 'bo', label='Training cat acc')\n",
    "plt.plot(epochs, val_acc, 'b', label='Validation cat acc')\n",
    "plt.title('Training and validation cat accuracy')\n",
    "plt.legend()\n",
    "plt.figure()\n",
    "\n",
    "\n",
    "plt.plot(epochs, train_top2_acc, 'bo', label='Training top2 acc')\n",
    "plt.plot(epochs, val_top2_acc, 'b', label='Validation top2 acc')\n",
    "plt.title('Training and validation top2 accuracy')\n",
    "plt.legend()\n",
    "plt.figure()\n",
    "plt.plot(epochs, train_top3_acc, 'bo', label='Training top3 acc')\n",
    "plt.plot(epochs, val_top3_acc, 'b', label='Validation top3 acc')\n",
    "plt.title('Training and validation top3 accuracy')\n",
    "plt.legend()\n",
    "\n",
    "\n",
    "plt.show()"
   ]
  },
  {
   "cell_type": "markdown",
   "metadata": {
    "_uuid": "4204e4056c8d12c1fee72b97912879cad4ee483f"
   },
   "source": [
    "### Create a Confusion Matrix"
   ]
  },
  {
   "cell_type": "code",
   "execution_count": 122,
   "metadata": {
    "_uuid": "74a66905f7a2d702f3d2aad9abf9fe114b96f0ff"
   },
   "outputs": [],
   "source": [
    "# Get the labels of the test images.\n",
    "\n",
    "test_labels = test_batches.classes"
   ]
  },
  {
   "cell_type": "code",
   "execution_count": 123,
   "metadata": {
    "_kg_hide-output": true,
    "_uuid": "53f4b22617285e923f336cdb2ffcbe1f9ff5e5db"
   },
   "outputs": [
    {
     "data": {
      "text/plain": [
       "array([0, 0, 0, 0, 0, 0, 0, 0, 0, 0, 0, 0, 0, 0, 0, 0, 0, 0, 0, 0, 0, 0,\n",
       "       0, 0, 0, 0, 0, 0, 0, 0, 0, 0, 0, 0, 0, 0, 0, 0, 0, 0, 0, 0, 0, 0,\n",
       "       0, 0, 0, 0, 0, 0, 0, 0, 0, 0, 0, 0, 0, 0, 0, 0, 0, 0, 0, 0, 0, 0,\n",
       "       0, 0, 0, 0, 0, 0, 0, 0, 0, 0, 0, 0, 0, 0, 0, 0, 0, 0, 0, 0, 0, 0,\n",
       "       0, 0, 0, 0, 0, 0, 0, 0, 0, 0, 0, 0, 0, 0, 0, 0, 0, 0, 0, 0, 0, 0,\n",
       "       0, 0, 1, 1, 1, 1, 1, 1, 1, 1, 1, 1, 1, 1, 1, 1, 1, 1, 1, 1, 1, 1,\n",
       "       1, 1, 1, 1, 1, 1, 1, 1, 1, 1, 1, 1, 1, 1, 1, 1, 1, 1, 1, 1, 1, 1,\n",
       "       1, 1, 1, 1, 1, 1, 1, 1, 1, 1, 1, 1, 1, 1, 1, 1, 1, 1, 1, 1, 1, 1,\n",
       "       1, 1, 1, 1, 1, 1, 1, 1, 1, 1, 1, 1, 1, 1, 1, 1, 1, 1, 1, 1, 1, 1,\n",
       "       1, 1, 1, 1, 1, 1, 1, 1, 1, 1, 1, 1, 1, 1, 1, 1, 1, 1, 1, 1, 1, 1,\n",
       "       1, 1, 1])"
      ]
     },
     "execution_count": 123,
     "metadata": {},
     "output_type": "execute_result"
    }
   ],
   "source": [
    "# We need these to plot the confusion matrix.\n",
    "test_labels"
   ]
  },
  {
   "cell_type": "code",
   "execution_count": 124,
   "metadata": {
    "_uuid": "d5113e039e8384b96595751e084f0c5ed677080a"
   },
   "outputs": [
    {
     "data": {
      "text/plain": [
       "{'Melanoma': 0, 'Non-Melanoma': 1}"
      ]
     },
     "execution_count": 124,
     "metadata": {},
     "output_type": "execute_result"
    }
   ],
   "source": [
    "# Print the label associated with each class\n",
    "test_batches.class_indices"
   ]
  },
  {
   "cell_type": "code",
   "execution_count": 125,
   "metadata": {
    "_uuid": "701dafc5874aa60a054a74c04170cb7e8d750e94"
   },
   "outputs": [
    {
     "name": "stdout",
     "output_type": "stream",
     "text": [
      "WARNING:tensorflow:From <ipython-input-125-9c0b47a7196d>:2: Model.predict_generator (from tensorflow.python.keras.engine.training) is deprecated and will be removed in a future version.\n",
      "Instructions for updating:\n",
      "Please use Model.predict, which supports generators.\n",
      "223/223 [==============================] - 2s 7ms/step\n"
     ]
    }
   ],
   "source": [
    "# make a prediction\n",
    "predictions = model.predict_generator(test_batches, steps=len(df_val), verbose=1)"
   ]
  },
  {
   "cell_type": "code",
   "execution_count": 126,
   "metadata": {
    "_uuid": "dcce17ac0488ff90d29b11592c9226ed1bb210fb"
   },
   "outputs": [
    {
     "data": {
      "text/plain": [
       "(223, 2)"
      ]
     },
     "execution_count": 126,
     "metadata": {},
     "output_type": "execute_result"
    }
   ],
   "source": [
    "predictions.shape"
   ]
  },
  {
   "cell_type": "code",
   "execution_count": 127,
   "metadata": {
    "_uuid": "7cfd9bdbbd27e27d9c5de7c6593527686445ea89"
   },
   "outputs": [],
   "source": [
    "# Source: Scikit Learn website\n",
    "# http://scikit-learn.org/stable/auto_examples/\n",
    "# model_selection/plot_confusion_matrix.html#sphx-glr-auto-examples-model-\n",
    "# selection-plot-confusion-matrix-py\n",
    "\n",
    "\n",
    "def plot_confusion_matrix(cm, classes,\n",
    "                          normalize=False,\n",
    "                          title='Confusion matrix',\n",
    "                          cmap=plt.cm.Blues):\n",
    "    \"\"\"\n",
    "    This function prints and plots the confusion matrix.\n",
    "    Normalization can be applied by setting `normalize=True`.\n",
    "    \"\"\"\n",
    "    if normalize:\n",
    "        cm = cm.astype('float') / cm.sum(axis=1)[:, np.newaxis]\n",
    "        print(\"Normalized confusion matrix\")\n",
    "    else:\n",
    "        print('Confusion matrix, without normalization')\n",
    "\n",
    "    print(cm)\n",
    "\n",
    "    plt.imshow(cm, interpolation='nearest', cmap=cmap)\n",
    "    plt.title(title)\n",
    "    plt.colorbar()\n",
    "    tick_marks = np.arange(len(classes))\n",
    "    plt.xticks(tick_marks, classes, rotation=45)\n",
    "    plt.yticks(tick_marks, classes)\n",
    "\n",
    "    fmt = '.2f' if normalize else 'd'\n",
    "    thresh = cm.max() / 2.\n",
    "    for i, j in itertools.product(range(cm.shape[0]), range(cm.shape[1])):\n",
    "        plt.text(j, i, format(cm[i, j], fmt),\n",
    "                 horizontalalignment=\"center\",\n",
    "                 color=\"white\" if cm[i, j] > thresh else \"black\")\n",
    "\n",
    "    plt.ylabel('True label')\n",
    "    plt.xlabel('Predicted label')\n",
    "    plt.tight_layout()\n",
    "\n",
    "\n"
   ]
  },
  {
   "cell_type": "code",
   "execution_count": 128,
   "metadata": {
    "_uuid": "8d499136cdb5fdf356515beb6e0cd1130ed584db"
   },
   "outputs": [
    {
     "data": {
      "text/plain": [
       "(223,)"
      ]
     },
     "execution_count": 128,
     "metadata": {},
     "output_type": "execute_result"
    }
   ],
   "source": [
    "test_labels.shape"
   ]
  },
  {
   "cell_type": "code",
   "execution_count": 129,
   "metadata": {
    "_uuid": "940b71bb2b37d847ba81dd67ca50c7fd5785fd35"
   },
   "outputs": [],
   "source": [
    "# argmax returns the index of the max value in a row\n",
    "cm = confusion_matrix(test_labels, predictions.argmax(axis=1))"
   ]
  },
  {
   "cell_type": "code",
   "execution_count": 130,
   "metadata": {
    "_uuid": "97c6b493c368ff6565782c1bb15827f5d349ef79"
   },
   "outputs": [
    {
     "data": {
      "text/plain": [
       "{'Melanoma': 0, 'Non-Melanoma': 1}"
      ]
     },
     "execution_count": 130,
     "metadata": {},
     "output_type": "execute_result"
    }
   ],
   "source": [
    "test_batches.class_indices"
   ]
  },
  {
   "cell_type": "code",
   "execution_count": 131,
   "metadata": {
    "_uuid": "0ddbd33a93468075c64ba49188a6d272a5c7828f"
   },
   "outputs": [
    {
     "name": "stdout",
     "output_type": "stream",
     "text": [
      "Confusion matrix, without normalization\n",
      "[[64 48]\n",
      " [31 80]]\n"
     ]
    },
    {
     "data": {
      "image/png": "[encoded data removed]",
      "text/plain": [
       "<Figure size 432x288 with 2 Axes>"
      ]
     },
     "metadata": {
      "needs_background": "light"
     },
     "output_type": "display_data"
    }
   ],
   "source": [
    "# Define the labels of the class indices. These need to match the \n",
    "# order shown above.\n",
    "cm_plot_labels = ['Melanoma', 'Non-Melanoma']\n",
    "\n",
    "plot_confusion_matrix(cm, cm_plot_labels, title='Confusion Matrix')"
   ]
  },
  {
   "cell_type": "markdown",
   "metadata": {
    "_uuid": "571f3f23d58daa03ec3fbf9207363063b2a63373"
   },
   "source": [
    "### Generate the Classification Report"
   ]
  },
  {
   "cell_type": "code",
   "execution_count": 132,
   "metadata": {
    "_uuid": "ebc31a49c8e8ab5d1305e46a7d638e0da326da8b"
   },
   "outputs": [],
   "source": [
    "# Get the index of the class with the highest probability score\n",
    "y_pred = np.argmax(predictions, axis=1)\n",
    "\n",
    "# Get the labels of the test images.\n",
    "y_true = test_batches.classes"
   ]
  },
  {
   "cell_type": "code",
   "execution_count": 133,
   "metadata": {
    "_uuid": "05027fe3475ab922340f9d905ec1239e2157fa05"
   },
   "outputs": [
    {
     "name": "stdout",
     "output_type": "stream",
     "text": [
      "              precision    recall  f1-score   support\n",
      "\n",
      "    Melanoma       0.67      0.57      0.62       112\n",
      "Non-Melanoma       0.62      0.72      0.67       111\n",
      "\n",
      "    accuracy                           0.65       223\n",
      "   macro avg       0.65      0.65      0.64       223\n",
      "weighted avg       0.65      0.65      0.64       223\n",
      "\n"
     ]
    }
   ],
   "source": [
    "from sklearn.metrics import classification_report\n",
    "\n",
    "# Generate a classification report\n",
    "report = classification_report(y_true, y_pred, target_names=cm_plot_labels)\n",
    "\n",
    "print(report)"
   ]
  },
  {
   "cell_type": "markdown",
   "metadata": {
    "_uuid": "d8313f0f4024fdb8053f943136880e63ac962ac2"
   },
   "source": [
    "**Recall** = Given a class, will the classifier be able to detect it?<br>\n",
    "**Precision** = Given a class prediction from a classifier, how likely is it to be correct?<br>\n",
    "**F1 Score** = The harmonic mean of the recall and precision. Essentially, it punishes extreme values."
   ]
  },
  {
   "cell_type": "code",
   "execution_count": null,
   "metadata": {
    "_uuid": "ffb96375ce44ef009192bf6ddb44f6eb53a43838"
   },
   "outputs": [],
   "source": []
  }
 ],
 "metadata": {
  "kernelspec": {
   "display_name": "Python 3",
   "language": "python",
   "name": "python3"
  },
  "language_info": {
   "codemirror_mode": {
    "name": "ipython",
    "version": 3
   },
   "file_extension": ".py",
   "mimetype": "text/x-python",
   "name": "python",
   "nbconvert_exporter": "python",
   "pygments_lexer": "ipython3",
   "version": "3.7.4"
  }
 },
 "nbformat": 4,
 "nbformat_minor": 4
}
